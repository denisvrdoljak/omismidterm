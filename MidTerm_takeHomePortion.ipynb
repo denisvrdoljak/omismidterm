{
 "cells": [
  {
   "cell_type": "markdown",
   "metadata": {},
   "source": [
    "# Midterm\n",
    "## Take Home Portion\n",
    "\n",
    "This is a research assignment. You will need to figure out how to use certain functions from the Pandas library, which we have not covered in class. We have, however, covered how to search for Python questions!\n",
    "\n",
    "You may not collaborate with anyone (from class, or outside of class). This is an individual assignment.\n",
    "\n",
    "1. Using the Pandas library, load the csv file into a Pandas DataFrame.\n",
    "    * https://github.com/denisvrdoljak/DenissTableauWorkshop/blob/master/Data%20and%20stuff/120-years-of-olympic-history-athletes-and-results.zip\n",
    "2. Create a new DataFrame that has only the entries for Female athletes\n",
    "3. Save this new DataFrame to a new csv file.\n",
    "4. Extract the Numpy array from this pandas DataFrame.\n"
   ]
  },
  {
   "cell_type": "markdown",
   "metadata": {},
   "source": [
    "Due: Tuesday 5 November 2019\n",
    "\n",
    "What to Submit: A Jupyter notebook with your solutions."
   ]
  }
 ],
 "metadata": {
  "kernelspec": {
   "display_name": "Python 3",
   "language": "python",
   "name": "python3"
  },
  "language_info": {
   "codemirror_mode": {
    "name": "ipython",
    "version": 3
   },
   "file_extension": ".py",
   "mimetype": "text/x-python",
   "name": "python",
   "nbconvert_exporter": "python",
   "pygments_lexer": "ipython3",
   "version": "3.7.1"
  }
 },
 "nbformat": 4,
 "nbformat_minor": 2
}
